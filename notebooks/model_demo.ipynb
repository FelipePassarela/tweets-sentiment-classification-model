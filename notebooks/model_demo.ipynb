{
 "cells": [
  {
   "cell_type": "code",
   "execution_count": 70,
   "metadata": {},
   "outputs": [
    {
     "name": "stderr",
     "output_type": "stream",
     "text": [
      "Some weights of the model checkpoint at cardiffnlp/twitter-roberta-base-sentiment-latest were not used when initializing RobertaForSequenceClassification: ['roberta.pooler.dense.bias', 'roberta.pooler.dense.weight']\n",
      "- This IS expected if you are initializing RobertaForSequenceClassification from the checkpoint of a model trained on another task or with another architecture (e.g. initializing a BertForSequenceClassification model from a BertForPreTraining model).\n",
      "- This IS NOT expected if you are initializing RobertaForSequenceClassification from the checkpoint of a model that you expect to be exactly identical (initializing a BertForSequenceClassification model from a BertForSequenceClassification model).\n",
      "C:\\Users\\felip\\Desenvolvimento\\sentiment-analysis\\src\\utils\\model_loader.py:25: FutureWarning: You are using `torch.load` with `weights_only=False` (the current default value), which uses the default pickle module implicitly. It is possible to construct malicious pickle data which will execute arbitrary code during unpickling (See https://github.com/pytorch/pytorch/blob/main/SECURITY.md#untrusted-models for more details). In a future release, the default value for `weights_only` will be flipped to `True`. This limits the functions that could be executed during unpickling. Arbitrary objects will no longer be allowed to be loaded via this mode unless they are explicitly allowlisted by the user via `torch.serialization.add_safe_globals`. We recommend you start setting `weights_only=True` for any use case where you don't have full control of the loaded file. Please open an issue on GitHub for any issues related to this experimental feature.\n",
      "  state_dict = torch.load(path, map_location=device)\n"
     ]
    },
    {
     "data": {
      "text/plain": [
       "===================================================================================================================\n",
       "Layer (type:depth-idx)                                            Output Shape              Param #\n",
       "===================================================================================================================\n",
       "RobertaForSequenceClassification                                  [64, 3]                   --\n",
       "├─RobertaModel: 1-1                                               [64, 128, 768]            --\n",
       "│    └─RobertaEmbeddings: 2-1                                     [64, 128, 768]            --\n",
       "│    │    └─Embedding: 3-1                                        [64, 128, 768]            38,603,520\n",
       "│    │    └─Embedding: 3-2                                        [64, 128, 768]            768\n",
       "│    │    └─Embedding: 3-3                                        [64, 128, 768]            394,752\n",
       "│    │    └─LayerNorm: 3-4                                        [64, 128, 768]            1,536\n",
       "│    │    └─Dropout: 3-5                                          [64, 128, 768]            --\n",
       "│    └─RobertaEncoder: 2-2                                        [64, 128, 768]            --\n",
       "│    │    └─ModuleList: 3-6                                       --                        85,054,464\n",
       "├─RobertaClassificationHead: 1-2                                  [64, 3]                   --\n",
       "│    └─Dropout: 2-3                                               [64, 768]                 --\n",
       "│    └─Linear: 2-4                                                [64, 768]                 590,592\n",
       "│    └─Dropout: 2-5                                               [64, 768]                 --\n",
       "│    └─Linear: 2-6                                                [64, 3]                   2,307\n",
       "===================================================================================================================\n",
       "Total params: 124,647,939\n",
       "Trainable params: 124,647,939\n",
       "Non-trainable params: 0\n",
       "Total mult-adds (Units.GIGABYTES): 7.98\n",
       "===================================================================================================================\n",
       "Input size (MB): 0.13\n",
       "Forward/backward pass size (MB): 6845.50\n",
       "Params size (MB): 498.59\n",
       "Estimated Total Size (MB): 7344.22\n",
       "==================================================================================================================="
      ]
     },
     "execution_count": 70,
     "metadata": {},
     "output_type": "execute_result"
    }
   ],
   "source": [
    "import torch\n",
    "from torchinfo import summary\n",
    "from transformers import AutoModelForSequenceClassification\n",
    "from src.utils.model_loader import load_model\n",
    "from src.config.config_loader import get_config\n",
    "\n",
    "\n",
    "config = get_config(config_path=\"../src/config/config.yaml\")\n",
    "device = \"cuda\" if torch.cuda.is_available() else \"cpu\"\n",
    "\n",
    "model = AutoModelForSequenceClassification.from_pretrained(config[\"model\"][\"name\"])\n",
    "model = load_model(model, \"../\" + config[\"training\"][\"early_stopping\"][\"checkpoint_path\"], device)\n",
    "model.eval()\n",
    "\n",
    "sample_input = {\n",
    "    \"input_ids\": torch.zeros((config[\"training\"][\"batch_size\"], \n",
    "                              config[\"data\"][\"tokenizer\"][\"max_length\"]), \n",
    "                              dtype=torch.long, device=device),\n",
    "    \"attention_mask\": torch.ones((config[\"training\"][\"batch_size\"], \n",
    "                                  config[\"data\"][\"tokenizer\"][\"max_length\"]), \n",
    "                                  dtype=torch.long, device=device)}\n",
    "summary(model, input_data=sample_input)"
   ]
  },
  {
   "cell_type": "code",
   "execution_count": 71,
   "metadata": {},
   "outputs": [
    {
     "name": "stdout",
     "output_type": "stream",
     "text": [
      "{'input_ids': tensor([[    0,   100,   657,    47,     2],\n",
      "        [    0,   100,  4157,    47,     2],\n",
      "        [    0, 31193, 14285,     2,     1],\n",
      "        [    0, 18636,  3602,     2,     1],\n",
      "        [    0,  6569,  8384, 27819,     2]], device='cuda:0'), 'attention_mask': tensor([[1, 1, 1, 1, 1],\n",
      "        [1, 1, 1, 1, 1],\n",
      "        [1, 1, 1, 1, 0],\n",
      "        [1, 1, 1, 1, 0],\n",
      "        [1, 1, 1, 1, 1]], device='cuda:0')}\n",
      "tensor([[-1.5161, -2.6633,  3.7886],\n",
      "        [ 4.9565, -2.0291, -3.4290],\n",
      "        [-3.3985, -2.7841,  6.2077],\n",
      "        [ 6.1912, -2.6779, -3.8871],\n",
      "        [-3.8872,  2.7872,  1.4353]], device='cuda:0',\n",
      "       grad_fn=<AddmmBackward0>)\n"
     ]
    }
   ],
   "source": [
    "from transformers import AutoTokenizer\n",
    "\n",
    "msgs = [\"I love you\", \"I hate you\", \"👌\", \"😑\", \"🍆\"]\n",
    "tokenizer = AutoTokenizer.from_pretrained(config[\"data\"][\"tokenizer\"][\"name\"])\n",
    "inputs = tokenizer(\n",
    "    msgs,\n",
    "    padding=True,\n",
    "    truncation=True,\n",
    "    max_length=config[\"data\"][\"tokenizer\"][\"max_length\"],\n",
    "    return_tensors=\"pt\"\n",
    ").to(device)\n",
    "outputs = model(**inputs)\n",
    "\n",
    "print(inputs)\n",
    "print(outputs.logits)"
   ]
  },
  {
   "cell_type": "code",
   "execution_count": 73,
   "metadata": {},
   "outputs": [
    {
     "name": "stdout",
     "output_type": "stream",
     "text": [
      "\"I love you\" is Positive (99.35%)\n",
      "\"I hate you\" is Negative (99.88%)\n",
      "\"👌\" is Positive (99.98%)\n",
      "\"😑\" is Negative (99.98%)\n",
      "\"🍆\" is Neutral (79.36%)\n"
     ]
    }
   ],
   "source": [
    "import torch.nn.functional as F\n",
    "\n",
    "for msg, probas in zip(msgs, F.softmax(outputs.logits, dim=1)):\n",
    "    class_decoder = {v: k for k, v in config[\"data\"][\"label_map\"].items()}\n",
    "    proba = probas.max().item()\n",
    "    pred = class_decoder[probas.argmax().item()]\n",
    "    print(f'\"{msg}\" is {pred} ({proba:.2%})')    "
   ]
  },
  {
   "cell_type": "code",
   "execution_count": null,
   "metadata": {},
   "outputs": [],
   "source": []
  }
 ],
 "metadata": {
  "kernelspec": {
   "display_name": "venv (3.12.7)",
   "language": "python",
   "name": "python3"
  },
  "language_info": {
   "codemirror_mode": {
    "name": "ipython",
    "version": 3
   },
   "file_extension": ".py",
   "mimetype": "text/x-python",
   "name": "python",
   "nbconvert_exporter": "python",
   "pygments_lexer": "ipython3",
   "version": "3.12.7"
  }
 },
 "nbformat": 4,
 "nbformat_minor": 2
}
